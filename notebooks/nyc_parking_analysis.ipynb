{
 "cells": [
  {
   "cell_type": "markdown",
   "id": "2bd4e305",
   "metadata": {},
   "source": [
    "# NY Parking Violation Data Analysis"
   ]
  },
  {
   "cell_type": "markdown",
   "id": "0b8857c2",
   "metadata": {},
   "source": [
    "## Problem\n",
    "\n",
    "* Exploratory data analysis of **NYC Parking violation** data for **2017** – **2021** years (5 years)\n",
    "* Infer from the data analysis findings\n",
    "\n",
    "> **Dataset** : https://data.cityofnewyork.us/City-Government/Parking-Violations-Issued-Fiscal-Year-2022/pvqr-7yc4"
   ]
  },
  {
   "cell_type": "markdown",
   "id": "9e2ca4b1",
   "metadata": {},
   "source": [
    "## Environment\n",
    "\n",
    "* Python 3\n",
    "* Spark 3.0 (colab) / 3.1 (local)\n",
    "* Spark Data Frames & Spark SQL\n",
    "* Local & Google Colab"
   ]
  },
  {
   "cell_type": "markdown",
   "id": "cb77d9c2",
   "metadata": {},
   "source": [
    "## Dataset Details"
   ]
  },
  {
   "cell_type": "markdown",
   "id": "d05c754f",
   "metadata": {},
   "source": [
    "Dataset contains New York city Police Department issued parking violations details"
   ]
  },
  {
   "cell_type": "markdown",
   "id": "1c5b6c9d",
   "metadata": {},
   "source": [
    "### Raw Dataset details\n",
    "- Fiscal year data (July 1 - June 30) is available. That means one file contains data for 2 years\n",
    "- All years data has same 43 columns\n",
    "- Total Number of records: 65449427\n",
    "- Total size: 11.2 GB"
   ]
  },
  {
   "cell_type": "markdown",
   "id": "bf1f2a38",
   "metadata": {},
   "source": [
    "### Processed Data details\n",
    "- Removed 30 columns which are not used in our analysis (Most of the removed columns don't have data for > 50% records)\n",
    "- Total Columns: 13\n",
    "- Total Number of records: 60076484\n",
    "- Total Size: 4.6 GB"
   ]
  },
  {
   "cell_type": "markdown",
   "id": "b0719eb4",
   "metadata": {},
   "source": [
    "### Columns Summary"
   ]
  },
  {
   "cell_type": "markdown",
   "id": "53ccb079",
   "metadata": {},
   "source": [
    "| S. No. | Source   Column Name    | Description/Comment                                  |\n",
    "|--------|-------------------------|------------------------------------------------------|\n",
    "| 1      | SUMMONS NUMBER          | UNIQUE IDENTIFIER OF SUMMONS                         |\n",
    "| 2      | PLATE ID                | REGISTERED PLATE ID                                  |\n",
    "| 3      | REGISTRATION STATE      | STATE OF PLATE   REGISTRATION                        |\n",
    "| 4      | PLATE TYPE              | TYPE OF PLATE                                        |\n",
    "| 5      | ISSUE DATE              | ISSUE DATE                                           |\n",
    "| 6      | VIOLATION CODE          | TYPE OF   VIOLATION                                  |\n",
    "| 7      | VEHICLE BODY TYPE       | VEHICLE BODY TYPE   WRITTEN ON SUMMONS (SEDAN, ETC.) |\n",
    "| 8      | VEHICLE MAKE            | MAKE OF CAR WRITTEN ON SUMMONS                       |\n",
    "| 9      | VIOLATION PRECINCT      | POLICE STATION OF VIOLATION                          |\n",
    "| 10     | ISSUER PRECINCT         | PRECINCT OF ISSUANCE                                 |\n",
    "| 11     | VIOLATION TIME          | VIOLATION TIME                                       |\n",
    "| 12     | VEHICLE COLOR           | CAR COLOR WRITTEN ON   SUMMONS                       |\n",
    "| 13     | VIOLATION   DESCRIPTION | DESCRIPTION OF   VIOLATION                           |"
   ]
  },
  {
   "cell_type": "markdown",
   "id": "960ab94e",
   "metadata": {},
   "source": [
    "### Columns Details"
   ]
  },
  {
   "cell_type": "markdown",
   "id": "a56945e8",
   "metadata": {},
   "source": [
    "#### Plate Type\n",
    "\n",
    "Registration Class Codes for vehicles. 3 letters code\n",
    "\n",
    "Common Plate types are \n",
    "* Passenger Vehicles (PAS): standard issue plates\n",
    "* Commercial Vehicles (COM): Full-size vans and most pickups\n",
    "* Medallion (OMT): Taxis\n",
    "* Personalized Plates (SRF): cars, mini-vans, SUVs and some pick-ups registered as passenger class\n",
    "* Special Omnibus Rentals (OMS)\n",
    "\n",
    "https://dmv.ny.gov/registration/registration-class-codes\n",
    "\n",
    "#### Violation Code\n",
    "Type of violation. Codes are from 1-99. Fines are charged based on this\n",
    "\n",
    "Some of the common violation codes & their fines\n",
    "\n",
    "| Violation Code | Description                      | Fine |\n",
    "|----------------|----------------------------------|------|\n",
    "| 36             | PHTO SCHOOL ZN SPEED VIOLATION   | 50   |\n",
    "| 21             | NO   PARKING-STREET CLEANING     | 45   |\n",
    "| 38             | FAIL   TO DSPLY MUNI METER RECPT | 35   |\n",
    "| 14             | NO   STANDING-DAY/TIME LIMITS    | 115  |\n",
    "| 20             | NO   PARKING-DAY/TIME LIMITS     | 60   |\n",
    "\n",
    "https://data.cityofnewyork.us/api/views/pvqr-7yc4/files/7875fa68-3a29-4825-9dfb-63ef30576f9e?download=true&filename=ParkingViolationCodes_January2020.xlsx\n",
    "\n",
    "#### Vehicle Body Type\n",
    "\n",
    "Common Vehicle body types are \n",
    "* suburban(SUBN): Vehicle that can be used to carry passengers and cargo\n",
    "* four-door sedan (4DSD)\n",
    "* Van Truck (VAN\n",
    "* Delivery Truck (DELV)\n",
    "* Pick-up Truck (PICK)\n",
    "* two-door sedan (2DSD) \n",
    "* Sedan (SEDN)\n",
    "\n",
    "https://nysdmv.custhelp.com/app/answers/detail/a_id/491/kw/body%20type%20subn\n",
    "\n",
    "#### Vehicle Make\n",
    "\n",
    "The DMV code for the make of a vehicle that appears on the registration. The DMV make code is the first 5 letters of the vehicle’s make name. If the vehicle make is more than one word, the make code is the first 2 letters of the first two words with a slash in between\n",
    "\n",
    "Common Vehicle Makes are \n",
    "* Honda (HONDA)\n",
    "* Toyota (TOYOT)\n",
    "* Ford (FORD)\n",
    "* Nissan (NISSA)\n",
    "* Chevrolet (CHEVR)\n",
    "* mercedes benz (ME/BE)\n",
    "\n",
    "https://data.ny.gov/Transportation/Vehicle-Makes-and-Body-Types-Most-Popular-in-New-Y/3pxy-wy2i\n",
    "https://data.ny.gov/api/assets/83055271-29A6-4ED4-9374-E159F30DB5AE\n",
    "\n",
    "#### Vehicle Colors\n",
    "\n",
    "Common colors are\n",
    "* Gray (GY)\n",
    "* White (WH)\n",
    "* Black (BK)\n",
    "* Blue (BL)\n",
    "* Red (RD)"
   ]
  },
  {
   "cell_type": "markdown",
   "id": "35dcc99b",
   "metadata": {},
   "source": [
    "## Config"
   ]
  },
  {
   "cell_type": "code",
   "execution_count": 36,
   "id": "d18301bb",
   "metadata": {},
   "outputs": [],
   "source": [
    "# Execution environment. Use False for local execution\n",
    "colab_env = False\n",
    "drive_path = \"/content/drive/MyDrive/Project/data_eng_at_scale\" # Project home\n",
    "\n",
    "# Use Sample file for speedy execution\n",
    "processed_file = True\n",
    "\n",
    "# Set to full-sanitized-data.csv for full sanitized file (4.6 GB)\n",
    "processed_file_path = f'{drive_path}/data/sample-100000.csv' if colab_env else \"../data/sample-100000.csv\"\n",
    "\n",
    "# Specify the raw CSV files path\n",
    "raw_CSV_path = f'{drive_path}/data/Parking_*.csv' if colab_env else \"../data/Parking*.csv\"\n",
    "\n",
    "csv_files = processed_file_path if processed_file else raw_CSV_path\n",
    "\n",
    "# For faster execution. Some statements are skipped based on this check\n",
    "presenting = False\n",
    "\n",
    "# Specify the years for which we are reading the data from CSV\n",
    "years = [2017, 2018, 2019, 2020, 2021]\n",
    "\n",
    "# Schema Types. Only specify for the non-string type & NULL columns. Others  are considered as string\n",
    "schema_types = {\n",
    "  \"Summons Number\": {\"type\": \"long\", \"null\": False},\n",
    "  \"Issue Date\"    : {\"type\": \"date\" if processed_file else \"string\", \"null\": True}, \n",
    "  \"Violation Code\": {\"type\": \"integer\", \"null\": True},\n",
    "  \"Violation Precinct\": {\"type\": \"integer\", \"null\": True},\n",
    "  \"Issuer Precinct\": {\"type\": \"integer\", \"null\": True},\n",
    "}\n",
    "\n",
    "# Columns which are used in the analysis. Other columns will be removed\n",
    "used_columns = [\"Summons Number\", \"Plate ID\", \"Registration State\", \"Plate Type\", \"Issue Date\", \"Violation Code\", \"Vehicle Body Type\", \"Vehicle Make\", \"Violation Precinct\", \"Issuer Precinct\", \"Violation Time\", \"Vehicle Color\", \"Violation Description\"]\n",
    "\n",
    "# All the columns which are there in the datset (Need to be in CSV file order)\n",
    "schema_columns = [\"Summons Number\", \"Plate ID\", \"Registration State\", \"Plate Type\", \"Issue Date\", \"Violation Code\", \"Vehicle Body Type\", \"Vehicle Make\", \"Issuing Agency\", \"Street Code1\", \"Street Code2\", \"Street Code3\", \"Vehicle Expiration Date\", \"Violation Location\", \"Violation Precinct\", \"Issuer Precinct\", \"Issuer Code\", \"Issuer Command\", \"Issuer Squad\", \"Violation Time\", \"Time First Observed\", \"Violation County\", \"Violation In Front Of Or Opposite\", \"House Number\", \"Street Name\", \"Intersecting Street\", \"Date First Observed\", \"Law Section\", \"Sub Division\", \"Violation Legal Code\", \"Days Parking In Effect    \", \"From Hours In Effect\", \"To Hours In Effect\", \"Vehicle Color\", \"Unregistered Vehicle?\", \"Vehicle Year\", \"Meter Number\", \"Feet From Curb\", \"Violation Post Code\", \"Violation Description\", \"No Standing or Stopping Violation\", \"Hydrant Violation\", \"Double Parking Violation\"] if not processed_file else [i.lower().replace(\" \", '_') for i in used_columns]\n",
    "\n",
    "# Generates the sample CSV \n",
    "if not processed_file:\n",
    "  sample_CSV_generate = False # Generate the sample CSV\n",
    "  sample_CSV_records = 100000 # No. of records to write into the sample CSV file\n",
    "  sample_CSV_path = f\"{drive_path}/data/sample-{sample_CSV_records}.csv\" if colab_env else f\"../data/sample-{sample_CSV_records}.csv\" # path to save\n",
    "  sample_seed = sample_CSV_records # Seed value so that we get same random records"
   ]
  },
  {
   "cell_type": "markdown",
   "id": "28a24ada",
   "metadata": {},
   "source": [
    "## Setup"
   ]
  },
  {
   "cell_type": "markdown",
   "id": "264023b1",
   "metadata": {},
   "source": [
    "### Spark Setup"
   ]
  },
  {
   "cell_type": "code",
   "execution_count": 37,
   "id": "58018333",
   "metadata": {
    "tags": []
   },
   "outputs": [],
   "source": [
    "# For google Colab\n",
    "if colab_env:\n",
    "  !apt-get install openjdk-8-jdk-headless -qq > /dev/null\n",
    "  !wget -q https://mirrors.estointernet.in/apache/spark/spark-3.0.3/spark-3.0.3-bin-hadoop2.7.tgz -P /content/\n",
    "  !tar xf /content/drive/Shareddrives/DA231-2021-Aug-Public/spark-3.0.3-bin-hadoop2.7.tgz\n",
    "  !pip install -q findspark\n",
    "  import os\n",
    "  os.environ[\"JAVA_HOME\"] = \"/usr/lib/jvm/java-8-openjdk-amd64\"\n",
    "  os.environ[\"SPARK_HOME\"] = \"/content/spark-3.0.3-bin-hadoop2.7\""
   ]
  },
  {
   "cell_type": "markdown",
   "id": "752a8807",
   "metadata": {},
   "source": [
    "### Imports"
   ]
  },
  {
   "cell_type": "code",
   "execution_count": 38,
   "id": "fcf8db7b",
   "metadata": {},
   "outputs": [
    {
     "name": "stdout",
     "output_type": "stream",
     "text": [
      "The autoreload extension is already loaded. To reload it, use:\n",
      "  %reload_ext autoreload\n"
     ]
    }
   ],
   "source": [
    "# Reload all changed modules every time before executing a new line\n",
    "%load_ext autoreload\n",
    "%autoreload 2"
   ]
  },
  {
   "cell_type": "code",
   "execution_count": 39,
   "id": "2fcecc12",
   "metadata": {},
   "outputs": [],
   "source": [
    "# PySpark related\n",
    "import findspark\n",
    "findspark.init()\n",
    "findspark.find()\n",
    "\n",
    "from pyspark.sql import SparkSession\n",
    "import pyspark.sql.functions as F\n",
    "from pyspark.sql.functions import col # Frequently using this. hence imported separately\n",
    "\n",
    "# user defined modules import\n",
    "import data_preprocess as dp\n",
    "import basic_analysis as ba\n",
    "import precinct_based_analysis as pba\n",
    "import time_based_analysis as tba\n",
    "import season_based_analysis as sba\n",
    "import revenue_based_analysis as rba\n",
    "import mis_analysis as ma"
   ]
  },
  {
   "cell_type": "markdown",
   "id": "23a5463f",
   "metadata": {},
   "source": [
    "### Spark Session"
   ]
  },
  {
   "cell_type": "code",
   "execution_count": 40,
   "id": "4747cd56",
   "metadata": {},
   "outputs": [
    {
     "data": {
      "text/html": [
       "\n",
       "            <div>\n",
       "                <p><b>SparkSession - in-memory</b></p>\n",
       "                \n",
       "        <div>\n",
       "            <p><b>SparkContext</b></p>\n",
       "\n",
       "            <p><a href=\"http://172.31.220.34:4040\">Spark UI</a></p>\n",
       "\n",
       "            <dl>\n",
       "              <dt>Version</dt>\n",
       "                <dd><code>v3.2.0</code></dd>\n",
       "              <dt>Master</dt>\n",
       "                <dd><code>local[*]</code></dd>\n",
       "              <dt>AppName</dt>\n",
       "                <dd><code>NYC Parking Violation Analysis</code></dd>\n",
       "            </dl>\n",
       "        </div>\n",
       "        \n",
       "            </div>\n",
       "        "
      ],
      "text/plain": [
       "<pyspark.sql.session.SparkSession at 0x7f5884f8d2e0>"
      ]
     },
     "execution_count": 40,
     "metadata": {},
     "output_type": "execute_result"
    }
   ],
   "source": [
    "spark = (\n",
    "          SparkSession\n",
    "            .builder\n",
    "            .master(\"local[*]\") # Using all available cores\n",
    "            .appName(\"NYC Parking Violation Analysis\")\n",
    "            .getOrCreate()\n",
    "        )\n",
    "spark"
   ]
  },
  {
   "cell_type": "markdown",
   "id": "7be5678a",
   "metadata": {},
   "source": [
    "## Data Pre-processing"
   ]
  },
  {
   "cell_type": "markdown",
   "id": "65fa7a33",
   "metadata": {},
   "source": [
    "### Reading CSV files into DataFrame"
   ]
  },
  {
   "cell_type": "code",
   "execution_count": 41,
   "id": "327afc8c",
   "metadata": {},
   "outputs": [],
   "source": [
    "# Better performance than inferSchema=True\n",
    "NY_schema = dp.get_schema(schema_columns, schema_types)\n",
    "\n",
    "org_df = spark.read.option(\"header\", True).schema(NY_schema).csv(csv_files)"
   ]
  },
  {
   "cell_type": "code",
   "execution_count": 42,
   "id": "bf3ec5f5",
   "metadata": {},
   "outputs": [],
   "source": [
    "if not processed_file:\n",
    "  print(f'Shape : {(org_df.count(), len(org_df.columns))}')\n",
    "  org_df.printSchema()\n",
    "  org_df.show(2)"
   ]
  },
  {
   "cell_type": "code",
   "execution_count": 43,
   "id": "5fa5555a",
   "metadata": {},
   "outputs": [],
   "source": [
    "if not processed_file:\n",
    "  presenting and org_df.summary().toPandas().transpose() # More execution time"
   ]
  },
  {
   "cell_type": "markdown",
   "id": "4ea3a158",
   "metadata": {},
   "source": [
    "### Pre-processing"
   ]
  },
  {
   "cell_type": "code",
   "execution_count": 44,
   "id": "b44c3d33",
   "metadata": {},
   "outputs": [],
   "source": [
    "# No pre-processing while using Sample file\n",
    "df = org_df\n",
    "if not processed_file:\n",
    "  # Need this setting to process the legacy time formats like 07/16/2019 12:00:00 AM \n",
    "  spark.sql(\"set spark.sql.legacy.timeParserPolicy=LEGACY\")\n",
    "\n",
    "  # Remove 30 unused columns\n",
    "  df = dp.remove_unused_columns(df, used_columns)\n",
    "\n",
    "  # Removes duplicate rows. Also drops the rows which are having null in all the columns\n",
    "  df = dp.drop_duplicates_nulls(df) \n",
    "\n",
    "  # Converting column names to lower case & replacing spaces with _\n",
    "  df = dp.santize_column_names(df)\n",
    "\n",
    "  # Ensure all the values in 'Summons Number' column are unique\n",
    "  dp.assert_uniqueness(df, column_name=\"summons_number\")\n",
    "\n",
    "  # Converting issue date string type to Date type\n",
    "  df = dp.convert_to_date(df, column_name=\"issue_date\", format=\"MM/dd/yyyy\")\n",
    "\n",
    "  # Removing the rows which are outside of 2017-2021\n",
    "  df = dp.remove_outside_years_data(df, years, \"issue_date\")"
   ]
  },
  {
   "cell_type": "markdown",
   "id": "431b5f55",
   "metadata": {},
   "source": [
    "## Sample file generation"
   ]
  },
  {
   "cell_type": "code",
   "execution_count": 45,
   "id": "29c39b41",
   "metadata": {},
   "outputs": [],
   "source": [
    "from pathlib import Path\n",
    "from shutil import rmtree\n",
    "\n",
    "def write_CSV(df, CSV_path):\n",
    "  \n",
    "  # Creates CSV in a folder. But memory efficient\n",
    "  df.coalesce(1).write.mode(\"overwrite\").csv(CSV_path, header=True) \n",
    "\n",
    "  # OOM\n",
    "  # df.toPandas().to_csv(CSV_path, index=False)\n",
    "\n",
    "  # Moving file to data folder\n",
    "  f_path = list(Path(CSV_path).glob('*.csv'))[0]\n",
    "  Path(f_path).rename(CSV_path+'.tmp')\n",
    "  rmtree(CSV_path)\n",
    "  Path(CSV_path+'.tmp').rename(CSV_path)\n"
   ]
  },
  {
   "cell_type": "code",
   "execution_count": 46,
   "id": "f174c9d6",
   "metadata": {},
   "outputs": [],
   "source": [
    "if (not processed_file and sample_CSV_generate):\n",
    "  total_records = df.count()\n",
    "  fraction = (sample_CSV_records+10000)/total_records # Exact records are not coming. Hence increasing the fraction using 10k\n",
    "  sample_df = df.sample(fraction=fraction, seed=sample_seed).limit(sample_CSV_records) # Getting exact number of records\n",
    "  print(f\"Sample records: {sample_df.count()}\")\n",
    "  write_CSV(sample_df, sample_CSV_path)\n",
    "  df = sample_df"
   ]
  },
  {
   "cell_type": "markdown",
   "id": "320e4c5c",
   "metadata": {},
   "source": [
    "## Final DF / Table for Analysis"
   ]
  },
  {
   "cell_type": "code",
   "execution_count": 47,
   "id": "3fb36275",
   "metadata": {},
   "outputs": [
    {
     "name": "stdout",
     "output_type": "stream",
     "text": [
      "Shape : (100000, 13)\n",
      "root\n",
      " |-- summons_number: string (nullable = true)\n",
      " |-- plate_id: string (nullable = true)\n",
      " |-- registration_state: string (nullable = true)\n",
      " |-- plate_type: string (nullable = true)\n",
      " |-- issue_date: string (nullable = true)\n",
      " |-- violation_code: string (nullable = true)\n",
      " |-- vehicle_body_type: string (nullable = true)\n",
      " |-- vehicle_make: string (nullable = true)\n",
      " |-- violation_precinct: string (nullable = true)\n",
      " |-- issuer_precinct: string (nullable = true)\n",
      " |-- violation_time: string (nullable = true)\n",
      " |-- vehicle_color: string (nullable = true)\n",
      " |-- violation_description: string (nullable = true)\n",
      "\n",
      "+--------------+--------+------------------+----------+----------+--------------+-----------------+------------+------------------+---------------+--------------+-------------+---------------------+\n",
      "|summons_number|plate_id|registration_state|plate_type|issue_date|violation_code|vehicle_body_type|vehicle_make|violation_precinct|issuer_precinct|violation_time|vehicle_color|violation_description|\n",
      "+--------------+--------+------------------+----------+----------+--------------+-----------------+------------+------------------+---------------+--------------+-------------+---------------------+\n",
      "|    4716906577| HJN9308|                NY|       PAS|2020-12-08|            36|             4DSD|       HYUND|                 0|              0|         0107P|           BK| PHTO SCHOOL ZN SP...|\n",
      "|    5112000119| RAE1373|                NC|       PAS|2020-09-18|             7|               4S|       CHEVR|                 0|              0|         0108P|         null| FAILURE TO STOP A...|\n",
      "+--------------+--------+------------------+----------+----------+--------------+-----------------+------------+------------------+---------------+--------------+-------------+---------------------+\n",
      "only showing top 2 rows\n",
      "\n"
     ]
    },
    {
     "name": "stderr",
     "output_type": "stream",
     "text": [
      "21/12/11 21:26:36 WARN CacheManager: Asked to cache already cached data.\n"
     ]
    }
   ],
   "source": [
    "df.cache() # Cache the data\n",
    "total_records = df.count() # Materialize the cache\n",
    "print(f'Shape : {(total_records, len(df.columns))}')\n",
    "df.printSchema()\n",
    "df.show(2)"
   ]
  },
  {
   "cell_type": "code",
   "execution_count": 48,
   "id": "58454c2c",
   "metadata": {},
   "outputs": [
    {
     "data": {
      "text/plain": [
       "False"
      ]
     },
     "execution_count": 48,
     "metadata": {},
     "output_type": "execute_result"
    }
   ],
   "source": [
    "presenting and df.describe().toPandas().transpose() # More execution time"
   ]
  },
  {
   "cell_type": "code",
   "execution_count": 49,
   "id": "abcf80ee",
   "metadata": {},
   "outputs": [],
   "source": [
    "df.createOrReplaceTempView(\"NYCPV\")"
   ]
  },
  {
   "cell_type": "markdown",
   "id": "d59c5268",
   "metadata": {},
   "source": [
    "## Analysis"
   ]
  },
  {
   "cell_type": "markdown",
   "id": "2fe351ef",
   "metadata": {},
   "source": [
    "### 01 Basic Analysis"
   ]
  },
  {
   "cell_type": "markdown",
   "id": "97891422",
   "metadata": {},
   "source": [
    "#### **How often does each violation code occur? (frequency of violation codes find the top 10) ?** \n",
    "\n",
    "**Top violation codes**\n",
    "\n",
    "Speed violations are more than no parking violations \n",
    "\n",
    "| Violation Code | Description                      | Fine |\n",
    "|----------------|----------------------------------|------|\n",
    "| 36             | PHTO SCHOOL ZN SPEED VIOLATION   | 50   |\n",
    "| 21             | NO   PARKING-STREET CLEANING     | 45   |\n",
    "| 38             | FAIL   TO DSPLY MUNI METER RECPT | 35   |\n",
    "| 14             | NO   STANDING-DAY/TIME LIMITS    | 115  |\n",
    "| 20             | NO   PARKING-DAY/TIME LIMITS     | 60   |"
   ]
  },
  {
   "cell_type": "code",
   "execution_count": 50,
   "id": "303f258f",
   "metadata": {},
   "outputs": [
    {
     "data": {
      "text/html": [
       "<div>\n",
       "<style scoped>\n",
       "    .dataframe tbody tr th:only-of-type {\n",
       "        vertical-align: middle;\n",
       "    }\n",
       "\n",
       "    .dataframe tbody tr th {\n",
       "        vertical-align: top;\n",
       "    }\n",
       "\n",
       "    .dataframe thead th {\n",
       "        text-align: right;\n",
       "    }\n",
       "</style>\n",
       "<table border=\"1\" class=\"dataframe\">\n",
       "  <thead>\n",
       "    <tr style=\"text-align: right;\">\n",
       "      <th></th>\n",
       "      <th>violation_code</th>\n",
       "      <th>no_of_tickets</th>\n",
       "    </tr>\n",
       "  </thead>\n",
       "  <tbody>\n",
       "    <tr>\n",
       "      <th>0</th>\n",
       "      <td>36</td>\n",
       "      <td>20411</td>\n",
       "    </tr>\n",
       "    <tr>\n",
       "      <th>1</th>\n",
       "      <td>21</td>\n",
       "      <td>12990</td>\n",
       "    </tr>\n",
       "    <tr>\n",
       "      <th>2</th>\n",
       "      <td>38</td>\n",
       "      <td>8901</td>\n",
       "    </tr>\n",
       "    <tr>\n",
       "      <th>3</th>\n",
       "      <td>14</td>\n",
       "      <td>7601</td>\n",
       "    </tr>\n",
       "    <tr>\n",
       "      <th>4</th>\n",
       "      <td>20</td>\n",
       "      <td>6298</td>\n",
       "    </tr>\n",
       "    <tr>\n",
       "      <th>...</th>\n",
       "      <td>...</td>\n",
       "      <td>...</td>\n",
       "    </tr>\n",
       "    <tr>\n",
       "      <th>81</th>\n",
       "      <td>65</td>\n",
       "      <td>2</td>\n",
       "    </tr>\n",
       "    <tr>\n",
       "      <th>82</th>\n",
       "      <td>59</td>\n",
       "      <td>1</td>\n",
       "    </tr>\n",
       "    <tr>\n",
       "      <th>83</th>\n",
       "      <td>92</td>\n",
       "      <td>1</td>\n",
       "    </tr>\n",
       "    <tr>\n",
       "      <th>84</th>\n",
       "      <td>3</td>\n",
       "      <td>1</td>\n",
       "    </tr>\n",
       "    <tr>\n",
       "      <th>85</th>\n",
       "      <td>30</td>\n",
       "      <td>1</td>\n",
       "    </tr>\n",
       "  </tbody>\n",
       "</table>\n",
       "<p>86 rows × 2 columns</p>\n",
       "</div>"
      ],
      "text/plain": [
       "   violation_code  no_of_tickets\n",
       "0              36          20411\n",
       "1              21          12990\n",
       "2              38           8901\n",
       "3              14           7601\n",
       "4              20           6298\n",
       "..            ...            ...\n",
       "81             65              2\n",
       "82             59              1\n",
       "83             92              1\n",
       "84              3              1\n",
       "85             30              1\n",
       "\n",
       "[86 rows x 2 columns]"
      ]
     },
     "execution_count": 50,
     "metadata": {},
     "output_type": "execute_result"
    },
    {
     "data": {
      "image/png": "[encoded data removed]",
      "text/plain": [
       "<Figure size 720x360 with 1 Axes>"
      ]
     },
     "metadata": {
      "needs_background": "light"
     },
     "output_type": "display_data"
    }
   ],
   "source": [
    "# print('Top5 frequency of violation codes')\n",
    "ba.violation_frequencey(df)"
   ]
  },
  {
   "cell_type": "markdown",
   "id": "de816e61",
   "metadata": {},
   "source": [
    "#### **How often does each vehicle body type get a parking ticket? (find the top 10)**\n",
    "\n",
    "Passenger vehicles have been getting more violations than commercial vehicles "
   ]
  },
  {
   "cell_type": "code",
   "execution_count": 51,
   "id": "897da883",
   "metadata": {},
   "outputs": [
    {
     "name": "stdout",
     "output_type": "stream",
     "text": [
      "Top5 Body type\n"
     ]
    },
    {
     "data": {
      "text/html": [
       "<div>\n",
       "<style scoped>\n",
       "    .dataframe tbody tr th:only-of-type {\n",
       "        vertical-align: middle;\n",
       "    }\n",
       "\n",
       "    .dataframe tbody tr th {\n",
       "        vertical-align: top;\n",
       "    }\n",
       "\n",
       "    .dataframe thead th {\n",
       "        text-align: right;\n",
       "    }\n",
       "</style>\n",
       "<table border=\"1\" class=\"dataframe\">\n",
       "  <thead>\n",
       "    <tr style=\"text-align: right;\">\n",
       "      <th></th>\n",
       "      <th>vehicle_body_type</th>\n",
       "      <th>Ticket_Frequency</th>\n",
       "    </tr>\n",
       "  </thead>\n",
       "  <tbody>\n",
       "    <tr>\n",
       "      <th>0</th>\n",
       "      <td>SUBN</td>\n",
       "      <td>37586</td>\n",
       "    </tr>\n",
       "    <tr>\n",
       "      <th>1</th>\n",
       "      <td>4DSD</td>\n",
       "      <td>27861</td>\n",
       "    </tr>\n",
       "    <tr>\n",
       "      <th>2</th>\n",
       "      <td>VAN</td>\n",
       "      <td>12298</td>\n",
       "    </tr>\n",
       "    <tr>\n",
       "      <th>3</th>\n",
       "      <td>DELV</td>\n",
       "      <td>4939</td>\n",
       "    </tr>\n",
       "    <tr>\n",
       "      <th>4</th>\n",
       "      <td>PICK</td>\n",
       "      <td>2676</td>\n",
       "    </tr>\n",
       "    <tr>\n",
       "      <th>...</th>\n",
       "      <td>...</td>\n",
       "      <td>...</td>\n",
       "    </tr>\n",
       "    <tr>\n",
       "      <th>181</th>\n",
       "      <td>CML</td>\n",
       "      <td>1</td>\n",
       "    </tr>\n",
       "    <tr>\n",
       "      <th>182</th>\n",
       "      <td>DEIV</td>\n",
       "      <td>1</td>\n",
       "    </tr>\n",
       "    <tr>\n",
       "      <th>183</th>\n",
       "      <td>12PU</td>\n",
       "      <td>1</td>\n",
       "    </tr>\n",
       "    <tr>\n",
       "      <th>184</th>\n",
       "      <td>WVKU</td>\n",
       "      <td>1</td>\n",
       "    </tr>\n",
       "    <tr>\n",
       "      <th>185</th>\n",
       "      <td>None</td>\n",
       "      <td>0</td>\n",
       "    </tr>\n",
       "  </tbody>\n",
       "</table>\n",
       "<p>186 rows × 2 columns</p>\n",
       "</div>"
      ],
      "text/plain": [
       "    vehicle_body_type  Ticket_Frequency\n",
       "0                SUBN             37586\n",
       "1                4DSD             27861\n",
       "2                 VAN             12298\n",
       "3                DELV              4939\n",
       "4                PICK              2676\n",
       "..                ...               ...\n",
       "181               CML                 1\n",
       "182              DEIV                 1\n",
       "183              12PU                 1\n",
       "184              WVKU                 1\n",
       "185              None                 0\n",
       "\n",
       "[186 rows x 2 columns]"
      ]
     },
     "execution_count": 51,
     "metadata": {},
     "output_type": "execute_result"
    },
    {
     "data": {
      "image/png": "[encoded data removed]",
      "text/plain": [
       "<Figure size 720x360 with 1 Axes>"
      ]
     },
     "metadata": {
      "needs_background": "light"
     },
     "output_type": "display_data"
    }
   ],
   "source": [
    "print('Top5 Body type')\n",
    "ba.violations_by_bodytype(df)"
   ]
  },
  {
   "cell_type": "markdown",
   "id": "eea2a0e8",
   "metadata": {},
   "source": [
    "#### **How often does each vehicle make get a parking ticket? (find the top 10)**\n",
    "\n",
    "Toyota, Ford & Honda vehicles are having more violations"
   ]
  },
  {
   "cell_type": "code",
   "execution_count": 52,
   "id": "d21e2ff0",
   "metadata": {},
   "outputs": [
    {
     "name": "stdout",
     "output_type": "stream",
     "text": [
      "Top5 Vehicle Make\n"
     ]
    },
    {
     "data": {
      "text/html": [
       "<div>\n",
       "<style scoped>\n",
       "    .dataframe tbody tr th:only-of-type {\n",
       "        vertical-align: middle;\n",
       "    }\n",
       "\n",
       "    .dataframe tbody tr th {\n",
       "        vertical-align: top;\n",
       "    }\n",
       "\n",
       "    .dataframe thead th {\n",
       "        text-align: right;\n",
       "    }\n",
       "</style>\n",
       "<table border=\"1\" class=\"dataframe\">\n",
       "  <thead>\n",
       "    <tr style=\"text-align: right;\">\n",
       "      <th></th>\n",
       "      <th>vehicle_make</th>\n",
       "      <th>Ticket_Frequency</th>\n",
       "    </tr>\n",
       "  </thead>\n",
       "  <tbody>\n",
       "    <tr>\n",
       "      <th>0</th>\n",
       "      <td>TOYOT</td>\n",
       "      <td>10914</td>\n",
       "    </tr>\n",
       "    <tr>\n",
       "      <th>1</th>\n",
       "      <td>FORD</td>\n",
       "      <td>10900</td>\n",
       "    </tr>\n",
       "    <tr>\n",
       "      <th>2</th>\n",
       "      <td>HONDA</td>\n",
       "      <td>10697</td>\n",
       "    </tr>\n",
       "    <tr>\n",
       "      <th>3</th>\n",
       "      <td>NISSA</td>\n",
       "      <td>8894</td>\n",
       "    </tr>\n",
       "    <tr>\n",
       "      <th>4</th>\n",
       "      <td>CHEVR</td>\n",
       "      <td>5871</td>\n",
       "    </tr>\n",
       "    <tr>\n",
       "      <th>...</th>\n",
       "      <td>...</td>\n",
       "      <td>...</td>\n",
       "    </tr>\n",
       "    <tr>\n",
       "      <th>266</th>\n",
       "      <td>CIMC</td>\n",
       "      <td>1</td>\n",
       "    </tr>\n",
       "    <tr>\n",
       "      <th>267</th>\n",
       "      <td>CUB C</td>\n",
       "      <td>1</td>\n",
       "    </tr>\n",
       "    <tr>\n",
       "      <th>268</th>\n",
       "      <td>BB</td>\n",
       "      <td>1</td>\n",
       "    </tr>\n",
       "    <tr>\n",
       "      <th>269</th>\n",
       "      <td>JEY</td>\n",
       "      <td>1</td>\n",
       "    </tr>\n",
       "    <tr>\n",
       "      <th>270</th>\n",
       "      <td>None</td>\n",
       "      <td>0</td>\n",
       "    </tr>\n",
       "  </tbody>\n",
       "</table>\n",
       "<p>271 rows × 2 columns</p>\n",
       "</div>"
      ],
      "text/plain": [
       "    vehicle_make  Ticket_Frequency\n",
       "0          TOYOT             10914\n",
       "1           FORD             10900\n",
       "2          HONDA             10697\n",
       "3          NISSA              8894\n",
       "4          CHEVR              5871\n",
       "..           ...               ...\n",
       "266         CIMC                 1\n",
       "267        CUB C                 1\n",
       "268           BB                 1\n",
       "269          JEY                 1\n",
       "270         None                 0\n",
       "\n",
       "[271 rows x 2 columns]"
      ]
     },
     "execution_count": 52,
     "metadata": {},
     "output_type": "execute_result"
    },
    {
     "data": {
      "image/png": "[encoded data removed]",
      "text/plain": [
       "<Figure size 720x360 with 1 Axes>"
      ]
     },
     "metadata": {
      "needs_background": "light"
     },
     "output_type": "display_data"
    }
   ],
   "source": [
    "\n",
    "print('Top5 Vehicle Make')\n",
    "ba.violations_by_make(df)"
   ]
  },
  {
   "cell_type": "markdown",
   "id": "3e41db30",
   "metadata": {},
   "source": [
    "### 02 Precinct based Analysis\n",
    "\n",
    "A **precinct** is a police station that has a certain zone of the city under its command"
   ]
  },
  {
   "cell_type": "markdown",
   "id": "f4d214ec",
   "metadata": {},
   "source": [
    "#### **Find the (10 highest) frequencies of violating Precincts (this is the precinct of the zone where the violation occurred)**"
   ]
  },
  {
   "cell_type": "code",
   "execution_count": 53,
   "id": "10cb0d15",
   "metadata": {},
   "outputs": [
    {
     "data": {
      "text/html": [
       "<div>\n",
       "<style scoped>\n",
       "    .dataframe tbody tr th:only-of-type {\n",
       "        vertical-align: middle;\n",
       "    }\n",
       "\n",
       "    .dataframe tbody tr th {\n",
       "        vertical-align: top;\n",
       "    }\n",
       "\n",
       "    .dataframe thead th {\n",
       "        text-align: right;\n",
       "    }\n",
       "</style>\n",
       "<table border=\"1\" class=\"dataframe\">\n",
       "  <thead>\n",
       "    <tr style=\"text-align: right;\">\n",
       "      <th></th>\n",
       "      <th>violation_precinct</th>\n",
       "      <th>no_of_violations</th>\n",
       "    </tr>\n",
       "  </thead>\n",
       "  <tbody>\n",
       "    <tr>\n",
       "      <th>0</th>\n",
       "      <td>19</td>\n",
       "      <td>3711</td>\n",
       "    </tr>\n",
       "    <tr>\n",
       "      <th>1</th>\n",
       "      <td>14</td>\n",
       "      <td>3056</td>\n",
       "    </tr>\n",
       "    <tr>\n",
       "      <th>2</th>\n",
       "      <td>18</td>\n",
       "      <td>2666</td>\n",
       "    </tr>\n",
       "    <tr>\n",
       "      <th>3</th>\n",
       "      <td>1</td>\n",
       "      <td>2533</td>\n",
       "    </tr>\n",
       "    <tr>\n",
       "      <th>4</th>\n",
       "      <td>114</td>\n",
       "      <td>2497</td>\n",
       "    </tr>\n",
       "    <tr>\n",
       "      <th>...</th>\n",
       "      <td>...</td>\n",
       "      <td>...</td>\n",
       "    </tr>\n",
       "    <tr>\n",
       "      <th>92</th>\n",
       "      <td>80</td>\n",
       "      <td>1</td>\n",
       "    </tr>\n",
       "    <tr>\n",
       "      <th>93</th>\n",
       "      <td>163</td>\n",
       "      <td>1</td>\n",
       "    </tr>\n",
       "    <tr>\n",
       "      <th>94</th>\n",
       "      <td>27</td>\n",
       "      <td>1</td>\n",
       "    </tr>\n",
       "    <tr>\n",
       "      <th>95</th>\n",
       "      <td>117</td>\n",
       "      <td>1</td>\n",
       "    </tr>\n",
       "    <tr>\n",
       "      <th>96</th>\n",
       "      <td>2</td>\n",
       "      <td>1</td>\n",
       "    </tr>\n",
       "  </tbody>\n",
       "</table>\n",
       "<p>97 rows × 2 columns</p>\n",
       "</div>"
      ],
      "text/plain": [
       "   violation_precinct  no_of_violations\n",
       "0                  19              3711\n",
       "1                  14              3056\n",
       "2                  18              2666\n",
       "3                   1              2533\n",
       "4                 114              2497\n",
       "..                ...               ...\n",
       "92                 80                 1\n",
       "93                163                 1\n",
       "94                 27                 1\n",
       "95                117                 1\n",
       "96                  2                 1\n",
       "\n",
       "[97 rows x 2 columns]"
      ]
     },
     "execution_count": 53,
     "metadata": {},
     "output_type": "execute_result"
    },
    {
     "data": {
      "image/png": "[encoded data removed]",
      "text/plain": [
       "<Figure size 720x360 with 1 Axes>"
      ]
     },
     "metadata": {
      "needs_background": "light"
     },
     "output_type": "display_data"
    }
   ],
   "source": [
    "# print('Top 5 Violation precicts')\n",
    "pba.violating_precicts(df, True)"
   ]
  },
  {
   "cell_type": "markdown",
   "id": "cc2f3a80",
   "metadata": {},
   "source": [
    "#### **Find the (10 highest) frequencies of Issuing Precincts (this is the precinct that issued the ticket)**"
   ]
  },
  {
   "cell_type": "code",
   "execution_count": 54,
   "id": "32af2d97",
   "metadata": {},
   "outputs": [
    {
     "data": {
      "text/html": [
       "<div>\n",
       "<style scoped>\n",
       "    .dataframe tbody tr th:only-of-type {\n",
       "        vertical-align: middle;\n",
       "    }\n",
       "\n",
       "    .dataframe tbody tr th {\n",
       "        vertical-align: top;\n",
       "    }\n",
       "\n",
       "    .dataframe thead th {\n",
       "        text-align: right;\n",
       "    }\n",
       "</style>\n",
       "<table border=\"1\" class=\"dataframe\">\n",
       "  <thead>\n",
       "    <tr style=\"text-align: right;\">\n",
       "      <th></th>\n",
       "      <th>issuer_precinct</th>\n",
       "      <th>no_of_violations</th>\n",
       "    </tr>\n",
       "  </thead>\n",
       "  <tbody>\n",
       "    <tr>\n",
       "      <th>0</th>\n",
       "      <td>19</td>\n",
       "      <td>3606</td>\n",
       "    </tr>\n",
       "    <tr>\n",
       "      <th>1</th>\n",
       "      <td>14</td>\n",
       "      <td>2938</td>\n",
       "    </tr>\n",
       "    <tr>\n",
       "      <th>2</th>\n",
       "      <td>18</td>\n",
       "      <td>2549</td>\n",
       "    </tr>\n",
       "    <tr>\n",
       "      <th>3</th>\n",
       "      <td>1</td>\n",
       "      <td>2483</td>\n",
       "    </tr>\n",
       "    <tr>\n",
       "      <th>4</th>\n",
       "      <td>114</td>\n",
       "      <td>2445</td>\n",
       "    </tr>\n",
       "    <tr>\n",
       "      <th>...</th>\n",
       "      <td>...</td>\n",
       "      <td>...</td>\n",
       "    </tr>\n",
       "    <tr>\n",
       "      <th>133</th>\n",
       "      <td>426</td>\n",
       "      <td>1</td>\n",
       "    </tr>\n",
       "    <tr>\n",
       "      <th>134</th>\n",
       "      <td>39</td>\n",
       "      <td>1</td>\n",
       "    </tr>\n",
       "    <tr>\n",
       "      <th>135</th>\n",
       "      <td>883</td>\n",
       "      <td>1</td>\n",
       "    </tr>\n",
       "    <tr>\n",
       "      <th>136</th>\n",
       "      <td>21</td>\n",
       "      <td>1</td>\n",
       "    </tr>\n",
       "    <tr>\n",
       "      <th>137</th>\n",
       "      <td>301</td>\n",
       "      <td>1</td>\n",
       "    </tr>\n",
       "  </tbody>\n",
       "</table>\n",
       "<p>138 rows × 2 columns</p>\n",
       "</div>"
      ],
      "text/plain": [
       "    issuer_precinct  no_of_violations\n",
       "0                19              3606\n",
       "1                14              2938\n",
       "2                18              2549\n",
       "3                 1              2483\n",
       "4               114              2445\n",
       "..              ...               ...\n",
       "133             426                 1\n",
       "134              39                 1\n",
       "135             883                 1\n",
       "136              21                 1\n",
       "137             301                 1\n",
       "\n",
       "[138 rows x 2 columns]"
      ]
     },
     "execution_count": 54,
     "metadata": {},
     "output_type": "execute_result"
    },
    {
     "data": {
      "image/png": "[encoded data removed]",
      "text/plain": [
       "<Figure size 720x360 with 1 Axes>"
      ]
     },
     "metadata": {
      "needs_background": "light"
     },
     "output_type": "display_data"
    }
   ],
   "source": [
    "# print('Top 5 Issuer precicts')\n",
    "pba.issuing_precincts(df, True)"
   ]
  },
  {
   "cell_type": "markdown",
   "id": "d4c206f2",
   "metadata": {},
   "source": [
    "#### **Find the violation code frequency across 3 precincts which have issued the most number of tickets (Top 5)**"
   ]
  },
  {
   "cell_type": "code",
   "execution_count": 55,
   "id": "69e24954",
   "metadata": {},
   "outputs": [
    {
     "name": "stdout",
     "output_type": "stream",
     "text": [
      "Top 3 Violating Precicts : ['19', '14', '18']\n"
     ]
    },
    {
     "data": {
      "text/html": [
       "<div>\n",
       "<style scoped>\n",
       "    .dataframe tbody tr th:only-of-type {\n",
       "        vertical-align: middle;\n",
       "    }\n",
       "\n",
       "    .dataframe tbody tr th {\n",
       "        vertical-align: top;\n",
       "    }\n",
       "\n",
       "    .dataframe thead th {\n",
       "        text-align: right;\n",
       "    }\n",
       "</style>\n",
       "<table border=\"1\" class=\"dataframe\">\n",
       "  <thead>\n",
       "    <tr style=\"text-align: right;\">\n",
       "      <th></th>\n",
       "      <th>violation_code</th>\n",
       "      <th>Freq of Violations</th>\n",
       "    </tr>\n",
       "  </thead>\n",
       "  <tbody>\n",
       "    <tr>\n",
       "      <th>0</th>\n",
       "      <td>14</td>\n",
       "      <td>1750</td>\n",
       "    </tr>\n",
       "    <tr>\n",
       "      <th>1</th>\n",
       "      <td>69</td>\n",
       "      <td>947</td>\n",
       "    </tr>\n",
       "    <tr>\n",
       "      <th>2</th>\n",
       "      <td>46</td>\n",
       "      <td>702</td>\n",
       "    </tr>\n",
       "    <tr>\n",
       "      <th>3</th>\n",
       "      <td>38</td>\n",
       "      <td>679</td>\n",
       "    </tr>\n",
       "    <tr>\n",
       "      <th>4</th>\n",
       "      <td>31</td>\n",
       "      <td>660</td>\n",
       "    </tr>\n",
       "    <tr>\n",
       "      <th>5</th>\n",
       "      <td>20</td>\n",
       "      <td>537</td>\n",
       "    </tr>\n",
       "    <tr>\n",
       "      <th>6</th>\n",
       "      <td>21</td>\n",
       "      <td>468</td>\n",
       "    </tr>\n",
       "    <tr>\n",
       "      <th>7</th>\n",
       "      <td>47</td>\n",
       "      <td>400</td>\n",
       "    </tr>\n",
       "    <tr>\n",
       "      <th>8</th>\n",
       "      <td>37</td>\n",
       "      <td>350</td>\n",
       "    </tr>\n",
       "    <tr>\n",
       "      <th>9</th>\n",
       "      <td>40</td>\n",
       "      <td>276</td>\n",
       "    </tr>\n",
       "    <tr>\n",
       "      <th>10</th>\n",
       "      <td>84</td>\n",
       "      <td>265</td>\n",
       "    </tr>\n",
       "    <tr>\n",
       "      <th>11</th>\n",
       "      <td>19</td>\n",
       "      <td>261</td>\n",
       "    </tr>\n",
       "    <tr>\n",
       "      <th>12</th>\n",
       "      <td>42</td>\n",
       "      <td>206</td>\n",
       "    </tr>\n",
       "    <tr>\n",
       "      <th>13</th>\n",
       "      <td>16</td>\n",
       "      <td>202</td>\n",
       "    </tr>\n",
       "    <tr>\n",
       "      <th>14</th>\n",
       "      <td>71</td>\n",
       "      <td>191</td>\n",
       "    </tr>\n",
       "    <tr>\n",
       "      <th>15</th>\n",
       "      <td>17</td>\n",
       "      <td>122</td>\n",
       "    </tr>\n",
       "    <tr>\n",
       "      <th>16</th>\n",
       "      <td>10</td>\n",
       "      <td>114</td>\n",
       "    </tr>\n",
       "    <tr>\n",
       "      <th>17</th>\n",
       "      <td>70</td>\n",
       "      <td>111</td>\n",
       "    </tr>\n",
       "    <tr>\n",
       "      <th>18</th>\n",
       "      <td>74</td>\n",
       "      <td>111</td>\n",
       "    </tr>\n",
       "    <tr>\n",
       "      <th>19</th>\n",
       "      <td>18</td>\n",
       "      <td>92</td>\n",
       "    </tr>\n",
       "    <tr>\n",
       "      <th>20</th>\n",
       "      <td>82</td>\n",
       "      <td>92</td>\n",
       "    </tr>\n",
       "    <tr>\n",
       "      <th>21</th>\n",
       "      <td>9</td>\n",
       "      <td>71</td>\n",
       "    </tr>\n",
       "    <tr>\n",
       "      <th>22</th>\n",
       "      <td>13</td>\n",
       "      <td>59</td>\n",
       "    </tr>\n",
       "    <tr>\n",
       "      <th>23</th>\n",
       "      <td>11</td>\n",
       "      <td>52</td>\n",
       "    </tr>\n",
       "    <tr>\n",
       "      <th>24</th>\n",
       "      <td>48</td>\n",
       "      <td>52</td>\n",
       "    </tr>\n",
       "    <tr>\n",
       "      <th>25</th>\n",
       "      <td>53</td>\n",
       "      <td>44</td>\n",
       "    </tr>\n",
       "    <tr>\n",
       "      <th>26</th>\n",
       "      <td>50</td>\n",
       "      <td>39</td>\n",
       "    </tr>\n",
       "    <tr>\n",
       "      <th>27</th>\n",
       "      <td>54</td>\n",
       "      <td>26</td>\n",
       "    </tr>\n",
       "    <tr>\n",
       "      <th>28</th>\n",
       "      <td>64</td>\n",
       "      <td>25</td>\n",
       "    </tr>\n",
       "    <tr>\n",
       "      <th>29</th>\n",
       "      <td>89</td>\n",
       "      <td>21</td>\n",
       "    </tr>\n",
       "    <tr>\n",
       "      <th>30</th>\n",
       "      <td>79</td>\n",
       "      <td>16</td>\n",
       "    </tr>\n",
       "    <tr>\n",
       "      <th>31</th>\n",
       "      <td>51</td>\n",
       "      <td>15</td>\n",
       "    </tr>\n",
       "    <tr>\n",
       "      <th>32</th>\n",
       "      <td>24</td>\n",
       "      <td>15</td>\n",
       "    </tr>\n",
       "    <tr>\n",
       "      <th>33</th>\n",
       "      <td>35</td>\n",
       "      <td>12</td>\n",
       "    </tr>\n",
       "    <tr>\n",
       "      <th>34</th>\n",
       "      <td>22</td>\n",
       "      <td>11</td>\n",
       "    </tr>\n",
       "    <tr>\n",
       "      <th>35</th>\n",
       "      <td>23</td>\n",
       "      <td>10</td>\n",
       "    </tr>\n",
       "    <tr>\n",
       "      <th>36</th>\n",
       "      <td>72</td>\n",
       "      <td>9</td>\n",
       "    </tr>\n",
       "    <tr>\n",
       "      <th>37</th>\n",
       "      <td>8</td>\n",
       "      <td>8</td>\n",
       "    </tr>\n",
       "    <tr>\n",
       "      <th>38</th>\n",
       "      <td>33</td>\n",
       "      <td>8</td>\n",
       "    </tr>\n",
       "    <tr>\n",
       "      <th>39</th>\n",
       "      <td>83</td>\n",
       "      <td>8</td>\n",
       "    </tr>\n",
       "    <tr>\n",
       "      <th>40</th>\n",
       "      <td>78</td>\n",
       "      <td>7</td>\n",
       "    </tr>\n",
       "    <tr>\n",
       "      <th>41</th>\n",
       "      <td>73</td>\n",
       "      <td>6</td>\n",
       "    </tr>\n",
       "    <tr>\n",
       "      <th>42</th>\n",
       "      <td>26</td>\n",
       "      <td>6</td>\n",
       "    </tr>\n",
       "    <tr>\n",
       "      <th>43</th>\n",
       "      <td>77</td>\n",
       "      <td>4</td>\n",
       "    </tr>\n",
       "    <tr>\n",
       "      <th>44</th>\n",
       "      <td>45</td>\n",
       "      <td>4</td>\n",
       "    </tr>\n",
       "    <tr>\n",
       "      <th>45</th>\n",
       "      <td>87</td>\n",
       "      <td>3</td>\n",
       "    </tr>\n",
       "    <tr>\n",
       "      <th>46</th>\n",
       "      <td>66</td>\n",
       "      <td>3</td>\n",
       "    </tr>\n",
       "    <tr>\n",
       "      <th>47</th>\n",
       "      <td>75</td>\n",
       "      <td>3</td>\n",
       "    </tr>\n",
       "    <tr>\n",
       "      <th>48</th>\n",
       "      <td>1</td>\n",
       "      <td>3</td>\n",
       "    </tr>\n",
       "    <tr>\n",
       "      <th>49</th>\n",
       "      <td>85</td>\n",
       "      <td>2</td>\n",
       "    </tr>\n",
       "    <tr>\n",
       "      <th>50</th>\n",
       "      <td>98</td>\n",
       "      <td>2</td>\n",
       "    </tr>\n",
       "    <tr>\n",
       "      <th>51</th>\n",
       "      <td>44</td>\n",
       "      <td>2</td>\n",
       "    </tr>\n",
       "    <tr>\n",
       "      <th>52</th>\n",
       "      <td>49</td>\n",
       "      <td>2</td>\n",
       "    </tr>\n",
       "    <tr>\n",
       "      <th>53</th>\n",
       "      <td>62</td>\n",
       "      <td>2</td>\n",
       "    </tr>\n",
       "    <tr>\n",
       "      <th>54</th>\n",
       "      <td>76</td>\n",
       "      <td>2</td>\n",
       "    </tr>\n",
       "    <tr>\n",
       "      <th>55</th>\n",
       "      <td>52</td>\n",
       "      <td>1</td>\n",
       "    </tr>\n",
       "    <tr>\n",
       "      <th>56</th>\n",
       "      <td>67</td>\n",
       "      <td>1</td>\n",
       "    </tr>\n",
       "    <tr>\n",
       "      <th>57</th>\n",
       "      <td>2</td>\n",
       "      <td>1</td>\n",
       "    </tr>\n",
       "    <tr>\n",
       "      <th>58</th>\n",
       "      <td>3</td>\n",
       "      <td>1</td>\n",
       "    </tr>\n",
       "    <tr>\n",
       "      <th>59</th>\n",
       "      <td>61</td>\n",
       "      <td>1</td>\n",
       "    </tr>\n",
       "  </tbody>\n",
       "</table>\n",
       "</div>"
      ],
      "text/plain": [
       "   violation_code  Freq of Violations\n",
       "0              14                1750\n",
       "1              69                 947\n",
       "2              46                 702\n",
       "3              38                 679\n",
       "4              31                 660\n",
       "5              20                 537\n",
       "6              21                 468\n",
       "7              47                 400\n",
       "8              37                 350\n",
       "9              40                 276\n",
       "10             84                 265\n",
       "11             19                 261\n",
       "12             42                 206\n",
       "13             16                 202\n",
       "14             71                 191\n",
       "15             17                 122\n",
       "16             10                 114\n",
       "17             70                 111\n",
       "18             74                 111\n",
       "19             18                  92\n",
       "20             82                  92\n",
       "21              9                  71\n",
       "22             13                  59\n",
       "23             11                  52\n",
       "24             48                  52\n",
       "25             53                  44\n",
       "26             50                  39\n",
       "27             54                  26\n",
       "28             64                  25\n",
       "29             89                  21\n",
       "30             79                  16\n",
       "31             51                  15\n",
       "32             24                  15\n",
       "33             35                  12\n",
       "34             22                  11\n",
       "35             23                  10\n",
       "36             72                   9\n",
       "37              8                   8\n",
       "38             33                   8\n",
       "39             83                   8\n",
       "40             78                   7\n",
       "41             73                   6\n",
       "42             26                   6\n",
       "43             77                   4\n",
       "44             45                   4\n",
       "45             87                   3\n",
       "46             66                   3\n",
       "47             75                   3\n",
       "48              1                   3\n",
       "49             85                   2\n",
       "50             98                   2\n",
       "51             44                   2\n",
       "52             49                   2\n",
       "53             62                   2\n",
       "54             76                   2\n",
       "55             52                   1\n",
       "56             67                   1\n",
       "57              2                   1\n",
       "58              3                   1\n",
       "59             61                   1"
      ]
     },
     "execution_count": 55,
     "metadata": {},
     "output_type": "execute_result"
    },
    {
     "data": {
      "image/png": "[encoded data removed]",
      "text/plain": [
       "<Figure size 720x360 with 1 Axes>"
      ]
     },
     "metadata": {
      "needs_background": "light"
     },
     "output_type": "display_data"
    }
   ],
   "source": [
    "# print('Violation frequencies from top 3 issuer precicts')\n",
    "pba.violation_code_frequency_top3_precincts(df, True)"
   ]
  },
  {
   "cell_type": "markdown",
   "id": "5f8ef137",
   "metadata": {},
   "source": [
    "### 03 Time based Analysis"
   ]
  },
  {
   "cell_type": "markdown",
   "id": "c5c12fa4",
   "metadata": {},
   "source": [
    "#### **Divide 24 hours into 6 equal discrete bins of time. For each of these groups, find the 3 most commonly occurring violations**"
   ]
  },
  {
   "cell_type": "code",
   "execution_count": 56,
   "id": "08481d57",
   "metadata": {},
   "outputs": [
    {
     "name": "stdout",
     "output_type": "stream",
     "text": [
      "   violation_time_bin violation_time violation_code  violation_count\n",
      "0                   1       12AM-4AM             21              465\n",
      "1                   1       12AM-4AM             40              324\n",
      "2                   1       12AM-4AM             78              192\n",
      "   violation_time_bin violation_time violation_code  violation_count\n",
      "0                   2        4AM-8AM             36             1794\n",
      "1                   2        4AM-8AM             40             1372\n",
      "2                   2        4AM-8AM             14             1303\n",
      "   violation_time_bin violation_time violation_code  violation_count\n",
      "0                   3       8AM-12PM             21            10244\n",
      "1                   3       8AM-12PM             36             6133\n",
      "2                   3       8AM-12PM             38             3087\n",
      "   violation_time_bin violation_time violation_code  violation_count\n",
      "0                   4       12PM-4PM             36             6616\n",
      "1                   4       12PM-4PM             38             4109\n",
      "2                   4       12PM-4PM             20             2442\n",
      "   violation_time_bin violation_time violation_code  violation_count\n",
      "0                   5        4PM-8PM             36             4284\n",
      "1                   5        4PM-8PM             38             1389\n",
      "2                   5        4PM-8PM             14             1100\n",
      "   violation_time_bin violation_time violation_code  violation_count\n",
      "0                   6       8PM-12AM             36             1584\n",
      "1                   6       8PM-12AM              7              472\n",
      "2                   6       8PM-12AM             40              425\n"
     ]
    }
   ],
   "source": [
    "# Divide 24 hours into six equal discrete bins of time.\n",
    "# Bin Time Interval\n",
    "# 1 12:00 AM to 4:00 AM\n",
    "# 2 4:00 AM to 8:00 AM\n",
    "# 3 8:00 AM to 12:00 PM\n",
    "# 4 12:00 PM to 4:00 PM\n",
    "# 5 4:00 PM to 8:00 PM\n",
    "# 6 8:00 PM to 12:00 AM\n",
    "tba.three_most_common_violations_in_6_time_bins (spark, True)"
   ]
  },
  {
   "cell_type": "markdown",
   "id": "612033a7",
   "metadata": {},
   "source": [
    "#### **For the 5 most commonly occurring violation codes, find the most common times of day (in terms of the bins from the previous part)**"
   ]
  },
  {
   "cell_type": "code",
   "execution_count": 57,
   "id": "550cab1b",
   "metadata": {},
   "outputs": [
    {
     "name": "stdout",
     "output_type": "stream",
     "text": [
      "  violation_code  violation_time_bin violation_time  voilation_count\n",
      "0             21                   3       8AM-12PM            10244\n",
      "1             36                   4       12PM-4PM             6616\n",
      "2             36                   3       8AM-12PM             6133\n",
      "3             36                   5        4PM-8PM             4284\n",
      "4             38                   4       12PM-4PM             4109\n"
     ]
    },
    {
     "data": {
      "image/png": "[encoded data removed]",
      "text/plain": [
       "<Figure size 720x360 with 1 Axes>"
      ]
     },
     "metadata": {
      "needs_background": "light"
     },
     "output_type": "display_data"
    }
   ],
   "source": [
    "# Divide 24 hours into six equal discrete bins of time.\n",
    "# Bin Time Interval\n",
    "# 1 12:00 AM to 4:00 AM\n",
    "# 2 4:00 AM to 8:00 AM\n",
    "# 3 8:00 AM to 12:00 PM\n",
    "# 4 12:00 PM to 4:00 PM\n",
    "# 5 4:00 PM to 8:00 PM\n",
    "# 6 8:00 PM to 12:00 AM\n",
    "tba.five_most_common_Violations_with_times(spark, True)"
   ]
  },
  {
   "cell_type": "markdown",
   "id": "a1445c81",
   "metadata": {},
   "source": [
    "### 04 Year / Season based Analysis"
   ]
  },
  {
   "cell_type": "markdown",
   "id": "30367d8d",
   "metadata": {},
   "source": [
    "#### **What is the average reduction in violations for the year 2020 compared to 2019 (due to COVID), and year 2019 compared to 2018**"
   ]
  },
  {
   "cell_type": "code",
   "execution_count": 58,
   "id": "de1fc82b",
   "metadata": {},
   "outputs": [
    {
     "data": {
      "text/html": [
       "<div>\n",
       "<style scoped>\n",
       "    .dataframe tbody tr th:only-of-type {\n",
       "        vertical-align: middle;\n",
       "    }\n",
       "\n",
       "    .dataframe tbody tr th {\n",
       "        vertical-align: top;\n",
       "    }\n",
       "\n",
       "    .dataframe thead th {\n",
       "        text-align: right;\n",
       "    }\n",
       "</style>\n",
       "<table border=\"1\" class=\"dataframe\">\n",
       "  <thead>\n",
       "    <tr style=\"text-align: right;\">\n",
       "      <th></th>\n",
       "      <th>Reduction Years</th>\n",
       "      <th>Reduction</th>\n",
       "    </tr>\n",
       "  </thead>\n",
       "  <tbody>\n",
       "    <tr>\n",
       "      <th>0</th>\n",
       "      <td>Reduction 2019 from 2018</td>\n",
       "      <td>-6.878788</td>\n",
       "    </tr>\n",
       "    <tr>\n",
       "      <th>1</th>\n",
       "      <td>Reduction 2020 from 2019</td>\n",
       "      <td>-2.306020</td>\n",
       "    </tr>\n",
       "  </tbody>\n",
       "</table>\n",
       "</div>"
      ],
      "text/plain": [
       "            Reduction Years  Reduction\n",
       "0  Reduction 2019 from 2018  -6.878788\n",
       "1  Reduction 2020 from 2019  -2.306020"
      ]
     },
     "execution_count": 58,
     "metadata": {},
     "output_type": "execute_result"
    },
    {
     "data": {
      "image/png": "[encoded data removed]",
      "text/plain": [
       "<Figure size 720x360 with 1 Axes>"
      ]
     },
     "metadata": {
      "needs_background": "light"
     },
     "output_type": "display_data"
    }
   ],
   "source": [
    "# print(\"Reduction in violations due to covid\")\n",
    "sba.reduction_in_violations(df)"
   ]
  },
  {
   "cell_type": "markdown",
   "id": "04b9ddb9",
   "metadata": {},
   "source": [
    "#### **Divide the year into 3 number of seasons, and find frequencies of tickets for each season**"
   ]
  },
  {
   "cell_type": "code",
   "execution_count": 59,
   "id": "3f25bdaf",
   "metadata": {},
   "outputs": [
    {
     "data": {
      "text/html": [
       "<div>\n",
       "<style scoped>\n",
       "    .dataframe tbody tr th:only-of-type {\n",
       "        vertical-align: middle;\n",
       "    }\n",
       "\n",
       "    .dataframe tbody tr th {\n",
       "        vertical-align: top;\n",
       "    }\n",
       "\n",
       "    .dataframe thead th {\n",
       "        text-align: right;\n",
       "    }\n",
       "</style>\n",
       "<table border=\"1\" class=\"dataframe\">\n",
       "  <thead>\n",
       "    <tr style=\"text-align: right;\">\n",
       "      <th></th>\n",
       "      <th>season</th>\n",
       "      <th>No of tickets</th>\n",
       "    </tr>\n",
       "  </thead>\n",
       "  <tbody>\n",
       "    <tr>\n",
       "      <th>0</th>\n",
       "      <td>winter</td>\n",
       "      <td>22737</td>\n",
       "    </tr>\n",
       "    <tr>\n",
       "      <th>1</th>\n",
       "      <td>summer</td>\n",
       "      <td>27608</td>\n",
       "    </tr>\n",
       "    <tr>\n",
       "      <th>2</th>\n",
       "      <td>spring</td>\n",
       "      <td>24636</td>\n",
       "    </tr>\n",
       "    <tr>\n",
       "      <th>3</th>\n",
       "      <td>autumn</td>\n",
       "      <td>25019</td>\n",
       "    </tr>\n",
       "  </tbody>\n",
       "</table>\n",
       "</div>"
      ],
      "text/plain": [
       "   season  No of tickets\n",
       "0  winter          22737\n",
       "1  summer          27608\n",
       "2  spring          24636\n",
       "3  autumn          25019"
      ]
     },
     "execution_count": 59,
     "metadata": {},
     "output_type": "execute_result"
    },
    {
     "data": {
      "image/png": "[encoded data removed]",
      "text/plain": [
       "<Figure size 720x360 with 1 Axes>"
      ]
     },
     "metadata": {
      "needs_background": "light"
     },
     "output_type": "display_data"
    }
   ],
   "source": [
    "# print(\"Frequencies of violation in each season\")\n",
    "sba.season_violation_frequencies(df)"
   ]
  },
  {
   "cell_type": "markdown",
   "id": "c97265c7",
   "metadata": {},
   "source": [
    "#### **Find the 3 most common violations for each of these seasons**"
   ]
  },
  {
   "cell_type": "code",
   "execution_count": 60,
   "id": "7c7784aa",
   "metadata": {},
   "outputs": [
    {
     "data": {
      "text/html": [
       "<div>\n",
       "<style scoped>\n",
       "    .dataframe tbody tr th:only-of-type {\n",
       "        vertical-align: middle;\n",
       "    }\n",
       "\n",
       "    .dataframe tbody tr th {\n",
       "        vertical-align: top;\n",
       "    }\n",
       "\n",
       "    .dataframe thead th {\n",
       "        text-align: right;\n",
       "    }\n",
       "</style>\n",
       "<table border=\"1\" class=\"dataframe\">\n",
       "  <thead>\n",
       "    <tr style=\"text-align: right;\">\n",
       "      <th></th>\n",
       "      <th>Violation Code</th>\n",
       "      <th>Frequency</th>\n",
       "      <th>Season</th>\n",
       "    </tr>\n",
       "  </thead>\n",
       "  <tbody>\n",
       "    <tr>\n",
       "      <th>0</th>\n",
       "      <td>36</td>\n",
       "      <td>5372</td>\n",
       "      <td>spring</td>\n",
       "    </tr>\n",
       "    <tr>\n",
       "      <th>1</th>\n",
       "      <td>21</td>\n",
       "      <td>3008</td>\n",
       "      <td>spring</td>\n",
       "    </tr>\n",
       "    <tr>\n",
       "      <th>2</th>\n",
       "      <td>38</td>\n",
       "      <td>2025</td>\n",
       "      <td>spring</td>\n",
       "    </tr>\n",
       "    <tr>\n",
       "      <th>3</th>\n",
       "      <td>36</td>\n",
       "      <td>4024</td>\n",
       "      <td>winter</td>\n",
       "    </tr>\n",
       "    <tr>\n",
       "      <th>4</th>\n",
       "      <td>21</td>\n",
       "      <td>2976</td>\n",
       "      <td>winter</td>\n",
       "    </tr>\n",
       "    <tr>\n",
       "      <th>5</th>\n",
       "      <td>38</td>\n",
       "      <td>2250</td>\n",
       "      <td>winter</td>\n",
       "    </tr>\n",
       "    <tr>\n",
       "      <th>6</th>\n",
       "      <td>36</td>\n",
       "      <td>6132</td>\n",
       "      <td>summer</td>\n",
       "    </tr>\n",
       "    <tr>\n",
       "      <th>7</th>\n",
       "      <td>21</td>\n",
       "      <td>3763</td>\n",
       "      <td>summer</td>\n",
       "    </tr>\n",
       "    <tr>\n",
       "      <th>8</th>\n",
       "      <td>38</td>\n",
       "      <td>2291</td>\n",
       "      <td>summer</td>\n",
       "    </tr>\n",
       "    <tr>\n",
       "      <th>9</th>\n",
       "      <td>36</td>\n",
       "      <td>4883</td>\n",
       "      <td>autumn</td>\n",
       "    </tr>\n",
       "    <tr>\n",
       "      <th>10</th>\n",
       "      <td>21</td>\n",
       "      <td>3243</td>\n",
       "      <td>autumn</td>\n",
       "    </tr>\n",
       "    <tr>\n",
       "      <th>11</th>\n",
       "      <td>38</td>\n",
       "      <td>2335</td>\n",
       "      <td>autumn</td>\n",
       "    </tr>\n",
       "  </tbody>\n",
       "</table>\n",
       "</div>"
      ],
      "text/plain": [
       "   Violation Code  Frequency  Season\n",
       "0              36       5372  spring\n",
       "1              21       3008  spring\n",
       "2              38       2025  spring\n",
       "3              36       4024  winter\n",
       "4              21       2976  winter\n",
       "5              38       2250  winter\n",
       "6              36       6132  summer\n",
       "7              21       3763  summer\n",
       "8              38       2291  summer\n",
       "9              36       4883  autumn\n",
       "10             21       3243  autumn\n",
       "11             38       2335  autumn"
      ]
     },
     "execution_count": 60,
     "metadata": {},
     "output_type": "execute_result"
    },
    {
     "data": {
      "image/png": "[encoded data removed]",
      "text/plain": [
       "<Figure size 720x360 with 1 Axes>"
      ]
     },
     "metadata": {
      "needs_background": "light"
     },
     "output_type": "display_data"
    }
   ],
   "source": [
    "# print(\"Frequencies of violation in each season\")\n",
    "sba.common_violations_season(df)"
   ]
  },
  {
   "cell_type": "markdown",
   "id": "1030a1d6",
   "metadata": {},
   "source": [
    "### 05 Revenue based Analysis\n",
    "\n",
    "The fines collected from all the parking violation constitute a revenue source for the NYC police department\n",
    "Fine amounts for each violation code are listed here https://www1.nyc.gov/site/finance/vehicles/services-violation-codes.page"
   ]
  },
  {
   "cell_type": "markdown",
   "id": "6d0f593a",
   "metadata": {},
   "source": [
    "#### **Find the total amount collected year wise**\n",
    "\n",
    "* Violation revenue is keep on increasing year on year"
   ]
  },
  {
   "cell_type": "code",
   "execution_count": 61,
   "id": "6893040f",
   "metadata": {},
   "outputs": [
    {
     "data": {
      "text/html": [
       "<div>\n",
       "<style scoped>\n",
       "    .dataframe tbody tr th:only-of-type {\n",
       "        vertical-align: middle;\n",
       "    }\n",
       "\n",
       "    .dataframe tbody tr th {\n",
       "        vertical-align: top;\n",
       "    }\n",
       "\n",
       "    .dataframe thead th {\n",
       "        text-align: right;\n",
       "    }\n",
       "</style>\n",
       "<table border=\"1\" class=\"dataframe\">\n",
       "  <thead>\n",
       "    <tr style=\"text-align: right;\">\n",
       "      <th></th>\n",
       "      <th>year</th>\n",
       "      <th>revenue</th>\n",
       "    </tr>\n",
       "  </thead>\n",
       "  <tbody>\n",
       "    <tr>\n",
       "      <th>0</th>\n",
       "      <td>2017</td>\n",
       "      <td>9820535</td>\n",
       "    </tr>\n",
       "    <tr>\n",
       "      <th>1</th>\n",
       "      <td>2018</td>\n",
       "      <td>10197000</td>\n",
       "    </tr>\n",
       "    <tr>\n",
       "      <th>2</th>\n",
       "      <td>2019</td>\n",
       "      <td>10898430</td>\n",
       "    </tr>\n",
       "    <tr>\n",
       "      <th>3</th>\n",
       "      <td>2020</td>\n",
       "      <td>11149750</td>\n",
       "    </tr>\n",
       "    <tr>\n",
       "      <th>4</th>\n",
       "      <td>2021</td>\n",
       "      <td>9434285</td>\n",
       "    </tr>\n",
       "  </tbody>\n",
       "</table>\n",
       "</div>"
      ],
      "text/plain": [
       "   year   revenue\n",
       "0  2017   9820535\n",
       "1  2018  10197000\n",
       "2  2019  10898430\n",
       "3  2020  11149750\n",
       "4  2021   9434285"
      ]
     },
     "execution_count": 61,
     "metadata": {},
     "output_type": "execute_result"
    },
    {
     "data": {
      "image/png": "[encoded data removed]",
      "text/plain": [
       "<Figure size 720x360 with 1 Axes>"
      ]
     },
     "metadata": {
      "needs_background": "light"
     },
     "output_type": "display_data"
    }
   ],
   "source": [
    "rba.yearly_revenue(df)"
   ]
  },
  {
   "cell_type": "markdown",
   "id": "119d22f6",
   "metadata": {},
   "source": [
    "#### **Find the top 5 violation codes which collected highest amount**\n",
    "\n",
    "* Violation revenue is keep on increasing year on year\n",
    "\n",
    "| Violation Code | Description                      | Fine |\n",
    "|----------------|----------------------------------|------|\n",
    "| 36             | PHTO SCHOOL ZN SPEED VIOLATION   | 50   |\n",
    "| 21             | NO   PARKING-STREET CLEANING     | 45   |\n",
    "| 38             | FAIL   TO DSPLY MUNI METER RECPT | 35   |\n",
    "| 14             | NO   STANDING-DAY/TIME LIMITS    | 115  |\n",
    "| 20             | NO   PARKING-DAY/TIME LIMITS     | 60   |"
   ]
  },
  {
   "cell_type": "code",
   "execution_count": 62,
   "id": "b8fb7e07",
   "metadata": {},
   "outputs": [
    {
     "data": {
      "text/html": [
       "<div>\n",
       "<style scoped>\n",
       "    .dataframe tbody tr th:only-of-type {\n",
       "        vertical-align: middle;\n",
       "    }\n",
       "\n",
       "    .dataframe tbody tr th {\n",
       "        vertical-align: top;\n",
       "    }\n",
       "\n",
       "    .dataframe thead th {\n",
       "        text-align: right;\n",
       "    }\n",
       "</style>\n",
       "<table border=\"1\" class=\"dataframe\">\n",
       "  <thead>\n",
       "    <tr style=\"text-align: right;\">\n",
       "      <th></th>\n",
       "      <th>violation_code</th>\n",
       "      <th>cost</th>\n",
       "    </tr>\n",
       "  </thead>\n",
       "  <tbody>\n",
       "    <tr>\n",
       "      <th>0</th>\n",
       "      <td>36</td>\n",
       "      <td>10511665</td>\n",
       "    </tr>\n",
       "    <tr>\n",
       "      <th>1</th>\n",
       "      <td>21</td>\n",
       "      <td>6689850</td>\n",
       "    </tr>\n",
       "    <tr>\n",
       "      <th>2</th>\n",
       "      <td>38</td>\n",
       "      <td>4584015</td>\n",
       "    </tr>\n",
       "    <tr>\n",
       "      <th>3</th>\n",
       "      <td>14</td>\n",
       "      <td>3914515</td>\n",
       "    </tr>\n",
       "    <tr>\n",
       "      <th>4</th>\n",
       "      <td>20</td>\n",
       "      <td>3243470</td>\n",
       "    </tr>\n",
       "    <tr>\n",
       "      <th>...</th>\n",
       "      <td>...</td>\n",
       "      <td>...</td>\n",
       "    </tr>\n",
       "    <tr>\n",
       "      <th>75</th>\n",
       "      <td>96</td>\n",
       "      <td>1030</td>\n",
       "    </tr>\n",
       "    <tr>\n",
       "      <th>82</th>\n",
       "      <td>59</td>\n",
       "      <td>515</td>\n",
       "    </tr>\n",
       "    <tr>\n",
       "      <th>83</th>\n",
       "      <td>92</td>\n",
       "      <td>515</td>\n",
       "    </tr>\n",
       "    <tr>\n",
       "      <th>84</th>\n",
       "      <td>3</td>\n",
       "      <td>515</td>\n",
       "    </tr>\n",
       "    <tr>\n",
       "      <th>85</th>\n",
       "      <td>30</td>\n",
       "      <td>515</td>\n",
       "    </tr>\n",
       "  </tbody>\n",
       "</table>\n",
       "<p>86 rows × 2 columns</p>\n",
       "</div>"
      ],
      "text/plain": [
       "   violation_code      cost\n",
       "0              36  10511665\n",
       "1              21   6689850\n",
       "2              38   4584015\n",
       "3              14   3914515\n",
       "4              20   3243470\n",
       "..            ...       ...\n",
       "75             96      1030\n",
       "82             59       515\n",
       "83             92       515\n",
       "84              3       515\n",
       "85             30       515\n",
       "\n",
       "[86 rows x 2 columns]"
      ]
     },
     "execution_count": 62,
     "metadata": {},
     "output_type": "execute_result"
    },
    {
     "data": {
      "image/png": "[encoded data removed]",
      "text/plain": [
       "<Figure size 720x360 with 1 Axes>"
      ]
     },
     "metadata": {
      "needs_background": "light"
     },
     "output_type": "display_data"
    }
   ],
   "source": [
    "rba.highest_revenue(df)"
   ]
  },
  {
   "cell_type": "markdown",
   "id": "9139cb98",
   "metadata": {},
   "source": [
    "### 06 Miscellaneous Analysis"
   ]
  },
  {
   "cell_type": "markdown",
   "id": "e35ed6fd",
   "metadata": {},
   "source": [
    "#### **Find the top 10 Repeat offenders**\n",
    "\n",
    "* There is a invalid blank plate ID with more number of violations\n",
    "* **64638MD** plate has the highest violations - 17"
   ]
  },
  {
   "cell_type": "code",
   "execution_count": 63,
   "id": "0f39f685",
   "metadata": {},
   "outputs": [
    {
     "data": {
      "text/html": [
       "<div>\n",
       "<style scoped>\n",
       "    .dataframe tbody tr th:only-of-type {\n",
       "        vertical-align: middle;\n",
       "    }\n",
       "\n",
       "    .dataframe tbody tr th {\n",
       "        vertical-align: top;\n",
       "    }\n",
       "\n",
       "    .dataframe thead th {\n",
       "        text-align: right;\n",
       "    }\n",
       "</style>\n",
       "<table border=\"1\" class=\"dataframe\">\n",
       "  <thead>\n",
       "    <tr style=\"text-align: right;\">\n",
       "      <th></th>\n",
       "      <th>plate_id</th>\n",
       "      <th>no_of_violations</th>\n",
       "    </tr>\n",
       "  </thead>\n",
       "  <tbody>\n",
       "    <tr>\n",
       "      <th>0</th>\n",
       "      <td>BLANKPLATE</td>\n",
       "      <td>84</td>\n",
       "    </tr>\n",
       "    <tr>\n",
       "      <th>1</th>\n",
       "      <td>64638MD</td>\n",
       "      <td>17</td>\n",
       "    </tr>\n",
       "    <tr>\n",
       "      <th>2</th>\n",
       "      <td>AT461E</td>\n",
       "      <td>11</td>\n",
       "    </tr>\n",
       "    <tr>\n",
       "      <th>3</th>\n",
       "      <td>17744MD</td>\n",
       "      <td>10</td>\n",
       "    </tr>\n",
       "    <tr>\n",
       "      <th>4</th>\n",
       "      <td>35810MJ</td>\n",
       "      <td>10</td>\n",
       "    </tr>\n",
       "    <tr>\n",
       "      <th>...</th>\n",
       "      <td>...</td>\n",
       "      <td>...</td>\n",
       "    </tr>\n",
       "    <tr>\n",
       "      <th>93643</th>\n",
       "      <td>JVG0334</td>\n",
       "      <td>1</td>\n",
       "    </tr>\n",
       "    <tr>\n",
       "      <th>93644</th>\n",
       "      <td>HXN2134</td>\n",
       "      <td>1</td>\n",
       "    </tr>\n",
       "    <tr>\n",
       "      <th>93645</th>\n",
       "      <td>JNZ1202</td>\n",
       "      <td>1</td>\n",
       "    </tr>\n",
       "    <tr>\n",
       "      <th>93646</th>\n",
       "      <td>JDP9633</td>\n",
       "      <td>1</td>\n",
       "    </tr>\n",
       "    <tr>\n",
       "      <th>93647</th>\n",
       "      <td>HRC5163</td>\n",
       "      <td>1</td>\n",
       "    </tr>\n",
       "  </tbody>\n",
       "</table>\n",
       "<p>93648 rows × 2 columns</p>\n",
       "</div>"
      ],
      "text/plain": [
       "         plate_id  no_of_violations\n",
       "0      BLANKPLATE                84\n",
       "1         64638MD                17\n",
       "2          AT461E                11\n",
       "3         17744MD                10\n",
       "4         35810MJ                10\n",
       "...           ...               ...\n",
       "93643     JVG0334                 1\n",
       "93644     HXN2134                 1\n",
       "93645     JNZ1202                 1\n",
       "93646     JDP9633                 1\n",
       "93647     HRC5163                 1\n",
       "\n",
       "[93648 rows x 2 columns]"
      ]
     },
     "execution_count": 63,
     "metadata": {},
     "output_type": "execute_result"
    },
    {
     "data": {
      "image/png": "[encoded data removed]",
      "text/plain": [
       "<Figure size 720x360 with 1 Axes>"
      ]
     },
     "metadata": {
      "needs_background": "light"
     },
     "output_type": "display_data"
    }
   ],
   "source": [
    "ma.repeat_offenders(spark)"
   ]
  },
  {
   "cell_type": "markdown",
   "id": "920037d0",
   "metadata": {},
   "source": [
    "#### **Compare in state violations vs Out of state violations**\n",
    "\n",
    "* Violations are registered for **68** out of state vehicles. But USA has 50 states. So we might have invalid entires in state column\n",
    "* **New Jersey** state registered vehicles got highest violations"
   ]
  },
  {
   "cell_type": "code",
   "execution_count": 64,
   "id": "00b61ae0",
   "metadata": {},
   "outputs": [
    {
     "data": {
      "text/html": [
       "<div>\n",
       "<style scoped>\n",
       "    .dataframe tbody tr th:only-of-type {\n",
       "        vertical-align: middle;\n",
       "    }\n",
       "\n",
       "    .dataframe tbody tr th {\n",
       "        vertical-align: top;\n",
       "    }\n",
       "\n",
       "    .dataframe thead th {\n",
       "        text-align: right;\n",
       "    }\n",
       "</style>\n",
       "<table border=\"1\" class=\"dataframe\">\n",
       "  <thead>\n",
       "    <tr style=\"text-align: right;\">\n",
       "      <th></th>\n",
       "      <th>registration_state</th>\n",
       "      <th>no_of_violations</th>\n",
       "    </tr>\n",
       "  </thead>\n",
       "  <tbody>\n",
       "    <tr>\n",
       "      <th>0</th>\n",
       "      <td>NY</td>\n",
       "      <td>77102</td>\n",
       "    </tr>\n",
       "    <tr>\n",
       "      <th>1</th>\n",
       "      <td>NJ</td>\n",
       "      <td>9045</td>\n",
       "    </tr>\n",
       "    <tr>\n",
       "      <th>2</th>\n",
       "      <td>PA</td>\n",
       "      <td>2815</td>\n",
       "    </tr>\n",
       "    <tr>\n",
       "      <th>3</th>\n",
       "      <td>FL</td>\n",
       "      <td>1482</td>\n",
       "    </tr>\n",
       "    <tr>\n",
       "      <th>4</th>\n",
       "      <td>CT</td>\n",
       "      <td>1372</td>\n",
       "    </tr>\n",
       "    <tr>\n",
       "      <th>...</th>\n",
       "      <td>...</td>\n",
       "      <td>...</td>\n",
       "    </tr>\n",
       "    <tr>\n",
       "      <th>57</th>\n",
       "      <td>PR</td>\n",
       "      <td>2</td>\n",
       "    </tr>\n",
       "    <tr>\n",
       "      <th>58</th>\n",
       "      <td>PE</td>\n",
       "      <td>1</td>\n",
       "    </tr>\n",
       "    <tr>\n",
       "      <th>59</th>\n",
       "      <td>NB</td>\n",
       "      <td>1</td>\n",
       "    </tr>\n",
       "    <tr>\n",
       "      <th>60</th>\n",
       "      <td>BC</td>\n",
       "      <td>1</td>\n",
       "    </tr>\n",
       "    <tr>\n",
       "      <th>61</th>\n",
       "      <td>AK</td>\n",
       "      <td>1</td>\n",
       "    </tr>\n",
       "  </tbody>\n",
       "</table>\n",
       "<p>62 rows × 2 columns</p>\n",
       "</div>"
      ],
      "text/plain": [
       "   registration_state  no_of_violations\n",
       "0                  NY             77102\n",
       "1                  NJ              9045\n",
       "2                  PA              2815\n",
       "3                  FL              1482\n",
       "4                  CT              1372\n",
       "..                ...               ...\n",
       "57                 PR                 2\n",
       "58                 PE                 1\n",
       "59                 NB                 1\n",
       "60                 BC                 1\n",
       "61                 AK                 1\n",
       "\n",
       "[62 rows x 2 columns]"
      ]
     },
     "execution_count": 64,
     "metadata": {},
     "output_type": "execute_result"
    },
    {
     "data": {
      "image/png": "[encoded data removed]",
      "text/plain": [
       "<Figure size 720x360 with 1 Axes>"
      ]
     },
     "metadata": {
      "needs_background": "light"
     },
     "output_type": "display_data"
    }
   ],
   "source": [
    "ma.in_out_state(spark)"
   ]
  },
  {
   "cell_type": "markdown",
   "id": "19e065d4",
   "metadata": {},
   "source": [
    "#### **Find number of violations on weekdays & weekends**\n",
    "\n",
    "* Weekends violations are ~50% less compared to week days"
   ]
  },
  {
   "cell_type": "code",
   "execution_count": 65,
   "id": "93ef3443",
   "metadata": {},
   "outputs": [
    {
     "data": {
      "text/html": [
       "<div>\n",
       "<style scoped>\n",
       "    .dataframe tbody tr th:only-of-type {\n",
       "        vertical-align: middle;\n",
       "    }\n",
       "\n",
       "    .dataframe tbody tr th {\n",
       "        vertical-align: top;\n",
       "    }\n",
       "\n",
       "    .dataframe thead th {\n",
       "        text-align: right;\n",
       "    }\n",
       "</style>\n",
       "<table border=\"1\" class=\"dataframe\">\n",
       "  <thead>\n",
       "    <tr style=\"text-align: right;\">\n",
       "      <th></th>\n",
       "      <th>week</th>\n",
       "      <th>no_of_violations</th>\n",
       "    </tr>\n",
       "  </thead>\n",
       "  <tbody>\n",
       "    <tr>\n",
       "      <th>0</th>\n",
       "      <td>Thursday</td>\n",
       "      <td>18428</td>\n",
       "    </tr>\n",
       "    <tr>\n",
       "      <th>1</th>\n",
       "      <td>Tuesday</td>\n",
       "      <td>18141</td>\n",
       "    </tr>\n",
       "    <tr>\n",
       "      <th>2</th>\n",
       "      <td>Friday</td>\n",
       "      <td>18015</td>\n",
       "    </tr>\n",
       "    <tr>\n",
       "      <th>3</th>\n",
       "      <td>Wednesday</td>\n",
       "      <td>17418</td>\n",
       "    </tr>\n",
       "    <tr>\n",
       "      <th>4</th>\n",
       "      <td>Monday</td>\n",
       "      <td>16237</td>\n",
       "    </tr>\n",
       "    <tr>\n",
       "      <th>5</th>\n",
       "      <td>Saturday</td>\n",
       "      <td>8443</td>\n",
       "    </tr>\n",
       "    <tr>\n",
       "      <th>6</th>\n",
       "      <td>Sunday</td>\n",
       "      <td>3318</td>\n",
       "    </tr>\n",
       "  </tbody>\n",
       "</table>\n",
       "</div>"
      ],
      "text/plain": [
       "        week  no_of_violations\n",
       "0   Thursday             18428\n",
       "1    Tuesday             18141\n",
       "2     Friday             18015\n",
       "3  Wednesday             17418\n",
       "4     Monday             16237\n",
       "5   Saturday              8443\n",
       "6     Sunday              3318"
      ]
     },
     "execution_count": 65,
     "metadata": {},
     "output_type": "execute_result"
    },
    {
     "data": {
      "image/png": "[encoded data removed]",
      "text/plain": [
       "<Figure size 720x360 with 1 Axes>"
      ]
     },
     "metadata": {
      "needs_background": "light"
     },
     "output_type": "display_data"
    }
   ],
   "source": [
    "ma.weekends(spark)"
   ]
  },
  {
   "cell_type": "markdown",
   "id": "a33103a0",
   "metadata": {},
   "source": [
    "#### **Find which days(holidays) has less number of violations**\n",
    "\n",
    "* Christmas & New year holidays registered less number of violations"
   ]
  },
  {
   "cell_type": "code",
   "execution_count": 66,
   "id": "0f6f5423",
   "metadata": {},
   "outputs": [
    {
     "data": {
      "text/html": [
       "<div>\n",
       "<style scoped>\n",
       "    .dataframe tbody tr th:only-of-type {\n",
       "        vertical-align: middle;\n",
       "    }\n",
       "\n",
       "    .dataframe tbody tr th {\n",
       "        vertical-align: top;\n",
       "    }\n",
       "\n",
       "    .dataframe thead th {\n",
       "        text-align: right;\n",
       "    }\n",
       "</style>\n",
       "<table border=\"1\" class=\"dataframe\">\n",
       "  <thead>\n",
       "    <tr style=\"text-align: right;\">\n",
       "      <th></th>\n",
       "      <th>day</th>\n",
       "      <th>no_of_violations</th>\n",
       "    </tr>\n",
       "  </thead>\n",
       "  <tbody>\n",
       "    <tr>\n",
       "      <th>0</th>\n",
       "      <td>25-12</td>\n",
       "      <td>16</td>\n",
       "    </tr>\n",
       "    <tr>\n",
       "      <th>1</th>\n",
       "      <td>1-1</td>\n",
       "      <td>24</td>\n",
       "    </tr>\n",
       "    <tr>\n",
       "      <th>2</th>\n",
       "      <td>29-2</td>\n",
       "      <td>40</td>\n",
       "    </tr>\n",
       "    <tr>\n",
       "      <th>3</th>\n",
       "      <td>4-7</td>\n",
       "      <td>44</td>\n",
       "    </tr>\n",
       "    <tr>\n",
       "      <th>4</th>\n",
       "      <td>17-12</td>\n",
       "      <td>131</td>\n",
       "    </tr>\n",
       "    <tr>\n",
       "      <th>...</th>\n",
       "      <td>...</td>\n",
       "      <td>...</td>\n",
       "    </tr>\n",
       "    <tr>\n",
       "      <th>361</th>\n",
       "      <td>12-3</td>\n",
       "      <td>386</td>\n",
       "    </tr>\n",
       "    <tr>\n",
       "      <th>362</th>\n",
       "      <td>6-8</td>\n",
       "      <td>387</td>\n",
       "    </tr>\n",
       "    <tr>\n",
       "      <th>363</th>\n",
       "      <td>9-3</td>\n",
       "      <td>395</td>\n",
       "    </tr>\n",
       "    <tr>\n",
       "      <th>364</th>\n",
       "      <td>20-8</td>\n",
       "      <td>395</td>\n",
       "    </tr>\n",
       "    <tr>\n",
       "      <th>365</th>\n",
       "      <td>17-9</td>\n",
       "      <td>412</td>\n",
       "    </tr>\n",
       "  </tbody>\n",
       "</table>\n",
       "<p>366 rows × 2 columns</p>\n",
       "</div>"
      ],
      "text/plain": [
       "       day  no_of_violations\n",
       "0    25-12                16\n",
       "1      1-1                24\n",
       "2     29-2                40\n",
       "3      4-7                44\n",
       "4    17-12               131\n",
       "..     ...               ...\n",
       "361   12-3               386\n",
       "362    6-8               387\n",
       "363    9-3               395\n",
       "364   20-8               395\n",
       "365   17-9               412\n",
       "\n",
       "[366 rows x 2 columns]"
      ]
     },
     "execution_count": 66,
     "metadata": {},
     "output_type": "execute_result"
    },
    {
     "data": {
      "image/png": "[encoded data removed]",
      "text/plain": [
       "<Figure size 720x360 with 1 Axes>"
      ]
     },
     "metadata": {
      "needs_background": "light"
     },
     "output_type": "display_data"
    }
   ],
   "source": [
    "ma.holidays(spark)"
   ]
  },
  {
   "cell_type": "markdown",
   "id": "b315eb81-353f-44c0-b2fa-c916ad6f42c2",
   "metadata": {},
   "source": [
    "# Timing evaluation"
   ]
  },
  {
   "cell_type": "code",
   "execution_count": 67,
   "id": "78a31a02-da00-49a1-b79b-59754118ff3b",
   "metadata": {},
   "outputs": [],
   "source": [
    "def execute_all(time_eval_df):\n",
    "    ba.violation_frequencey(time_eval_df, False)\n",
    "    ba.violations_by_bodytype(time_eval_df, False)\n",
    "    ba.violations_by_make(time_eval_df, False)\n",
    "    pba.violating_precicts(time_eval_df, False)\n",
    "    pba.issuing_precincts(time_eval_df, False)\n",
    "    pba.violation_code_frequency_top3_precincts(time_eval_df, False)\n",
    "    tba.three_most_common_voilations_in_6_time_bins (spark, False)\n",
    "    tba.five_most_common_Voilations_with_times(spark, False)\n",
    "    sba.reduction_in_violations(time_eval_df, False)\n",
    "    sba.season_violation_frequencies(time_eval_df, False)\n",
    "    sba.common_violations_season(time_eval_df, False)\n",
    "    rba.yearly_revenue(time_eval_df, False)\n",
    "    rba.highest_revenue(time_eval_df, False)\n",
    "    ma.repeat_offenders(spark, False)\n",
    "    ma.in_out_state(spark, False)\n",
    "    ma.weekends(spark, False)\n",
    "    ma.holidays(spark, False)"
   ]
  },
  {
   "cell_type": "code",
   "execution_count": 68,
   "id": "efedad12-13b9-4134-abce-4a22c048a317",
   "metadata": {},
   "outputs": [],
   "source": [
    "from timeit import timeit\n",
    "import pandas as pd\n",
    "import matplotlib.pyplot as plt\n",
    "import numpy as np\n",
    "\n",
    "def get_execution_time():\n",
    "  NY_schema = dp.get_schema(schema_columns, schema_types)\n",
    "\n",
    "  entries = [15000, 100000, 1000000, 10000000]\n",
    "  time_data = []\n",
    "  for entry in entries:\n",
    "      data_file = '../data/time_eval_sample'+ f'{int(entry)}'+'.csv'\n",
    "      time_eval_df = spark.read.option(\"header\", True).schema(NY_schema).csv(data_file)\n",
    "      time_eval_df.createOrReplaceTempView(\"NYCPV\")\n",
    "\n",
    "      execution_time = timeit(lambda : execute_all(time_eval_df), number=1)\n",
    "      time_data.append(execution_time)\n",
    "\n",
    "  fig, ax = plt.subplots(figsize=(5,5))\n",
    "  ax.set_title(\"Data Entries Vs Time(s)\")\n",
    "  ax.set_xlabel(\"Number of Data Entries\")\n",
    "  ax.set_ylabel(\"Time of execution(seconds)\")\n",
    "\n",
    "  x_data = output = [str(x) for x in entries]\n",
    "  ax.bar(x_data, time_data, color=['cyan', 'green', 'yellow', 'blue'])\n",
    "\n",
    "  fig.savefig('../output/entries_execution_time.png')\n",
    "\n",
    "  time_pd = pd.DataFrame(time_data, columns = ['Exectuin Time'], index = entries)\n",
    "  time_pd.index.name = 'Data processed'\n",
    "  time_pd\n",
    "\n",
    "# get_execution_time()"
   ]
  },
  {
   "cell_type": "code",
   "execution_count": 69,
   "id": "735fd35d",
   "metadata": {},
   "outputs": [],
   "source": [
    "# spark.stop()"
   ]
  }
 ],
 "metadata": {
  "interpreter": {
   "hash": "77b0c884bf9a8c123a3b4d947573202ae62508f6aa4f4128a2a251680436629f"
  },
  "kernelspec": {
   "display_name": "Python 3 (ipykernel)",
   "language": "python",
   "name": "python3"
  },
  "language_info": {
   "codemirror_mode": {
    "name": "ipython",
    "version": 3
   },
   "file_extension": ".py",
   "mimetype": "text/x-python",
   "name": "python",
   "nbconvert_exporter": "python",
   "pygments_lexer": "ipython3",
   "version": "3.9.7"
  }
 },
 "nbformat": 4,
 "nbformat_minor": 5
}
